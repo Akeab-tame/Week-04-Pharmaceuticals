{
 "cells": [
  {
   "cell_type": "code",
   "execution_count": 1,
   "metadata": {},
   "outputs": [],
   "source": [
    "import pandas as pd\n",
    "from sklearn.preprocessing import StandardScaler, LabelEncoder\n",
    "from sklearn.preprocessing import StandardScaler, OneHotEncoder\n",
    "from sklearn.compose import ColumnTransformer\n",
    "from sklearn.pipeline import Pipeline\n",
    "import numpy as np"
   ]
  },
  {
   "cell_type": "code",
   "execution_count": 2,
   "metadata": {},
   "outputs": [],
   "source": [
    "# Assuming df is the loaded dataframe\n",
    "df = pd.read_csv(\"../data/store.csv\")  "
   ]
  },
  {
   "cell_type": "code",
   "execution_count": 3,
   "metadata": {},
   "outputs": [],
   "source": [
    "# Converting non-numeric columns to numeric\n",
    "df['PromoInterval'] = df['PromoInterval'].replace(0, '0')  # Ensure uniformity in StateHoliday column\n",
    "label_encoder = LabelEncoder()\n",
    "df['PromoInterval'] = label_encoder.fit_transform(df['PromoInterval'])\n",
    "df['StoreType'] = label_encoder.fit_transform(df['StoreType'])\n",
    "df['Assortment'] = label_encoder.fit_transform(df['Assortment'])"
   ]
  },
  {
   "cell_type": "code",
   "execution_count": 4,
   "metadata": {},
   "outputs": [],
   "source": [
    "# Handle Missing Values\n",
    "# Fill missing values for numeric columns\n",
    "df['CompetitionOpenSinceMonth'] = df['CompetitionOpenSinceMonth'].fillna(0)\n",
    "df.fillna({'CompetitionDistance' : df['CompetitionDistance'].median()}, inplace=True)\n",
    "df['Promo2SinceWeek'] = df['Promo2SinceWeek'].fillna(0)\n",
    "df['Promo2SinceYear'] = df['Promo2SinceYear'].fillna(0)"
   ]
  },
  {
   "cell_type": "code",
   "execution_count": 5,
   "metadata": {},
   "outputs": [],
   "source": [
    "# Step 2: Convert Categorical Features into Numeric (One-Hot Encoding)\n",
    "categorical_features = ['StoreType', 'Assortment', 'PromoInterval']"
   ]
  },
  {
   "cell_type": "code",
   "execution_count": 6,
   "metadata": {},
   "outputs": [],
   "source": [
    "# Handling missing/empty PromoInterval\n",
    "df['PromoInterval'] = df['PromoInterval'].replace('', 'None')"
   ]
  },
  {
   "cell_type": "code",
   "execution_count": 7,
   "metadata": {},
   "outputs": [],
   "source": [
    "# Scaling the Data\n",
    "# Numerical columns to scale\n",
    "numerical_features = ['Store', 'CompetitionDistance', 'CompetitionOpenSinceMonth', 'CompetitionOpenSinceYear',\n",
    "                      'Promo2', 'Promo2SinceWeek', 'Promo2SinceYear']"
   ]
  },
  {
   "cell_type": "code",
   "execution_count": 8,
   "metadata": {},
   "outputs": [],
   "source": [
    "# Define the preprocessor with scaling and encoding\n",
    "preprocessor = ColumnTransformer(\n",
    "    transformers=[\n",
    "        ('num', StandardScaler(), numerical_features),\n",
    "        ('cat', OneHotEncoder(), categorical_features)\n",
    "    ])"
   ]
  },
  {
   "cell_type": "code",
   "execution_count": 9,
   "metadata": {},
   "outputs": [
    {
     "name": "stdout",
     "output_type": "stream",
     "text": [
      "      Store  CompetitionDistance  CompetitionOpenSinceMonth  \\\n",
      "0 -1.730498            -0.539351                   0.950048   \n",
      "1 -1.727391            -0.630841                   1.417010   \n",
      "2 -1.724284             1.141458                   1.650491   \n",
      "3 -1.721178            -0.624306                   0.950048   \n",
      "4 -1.718071             3.203912                  -0.217357   \n",
      "\n",
      "   CompetitionOpenSinceYear    Promo2  Promo2SinceWeek  Promo2SinceYear  \\\n",
      "0                 -0.108021 -1.024516        -0.777805        -1.024515   \n",
      "1                 -0.269522  0.976071         0.059001         0.974317   \n",
      "2                 -0.431023  0.976071         0.123370         0.975311   \n",
      "3                  0.053480 -1.024516        -0.777805        -1.024515   \n",
      "4                  1.022486 -1.024516        -0.777805        -1.024515   \n",
      "\n",
      "   StoreType_0  StoreType_1  StoreType_2  StoreType_3  Assortment_0  \\\n",
      "0          0.0          0.0          1.0          0.0           1.0   \n",
      "1          1.0          0.0          0.0          0.0           1.0   \n",
      "2          1.0          0.0          0.0          0.0           1.0   \n",
      "3          0.0          0.0          1.0          0.0           0.0   \n",
      "4          1.0          0.0          0.0          0.0           1.0   \n",
      "\n",
      "   Assortment_1  Assortment_2  PromoInterval_0  PromoInterval_1  \\\n",
      "0           0.0           0.0              0.0              0.0   \n",
      "1           0.0           0.0              0.0              1.0   \n",
      "2           0.0           0.0              0.0              1.0   \n",
      "3           0.0           1.0              0.0              0.0   \n",
      "4           0.0           0.0              0.0              0.0   \n",
      "\n",
      "   PromoInterval_2  PromoInterval_3  \n",
      "0              0.0              1.0  \n",
      "1              0.0              0.0  \n",
      "2              0.0              0.0  \n",
      "3              0.0              1.0  \n",
      "4              0.0              1.0  \n"
     ]
    }
   ],
   "source": [
    "# Apply the preprocessor to transform the dataset\n",
    "X_preprocessed = preprocessor.fit_transform(df)\n",
    "\n",
    "# Retrieve column names for the encoded features\n",
    "onehot_encoded_columns = list(preprocessor.transformers_[1][1].get_feature_names_out(categorical_features))\n",
    "\n",
    "# Combine numerical and encoded column names\n",
    "preprocessed_columns = numerical_features + onehot_encoded_columns\n",
    "\n",
    "# Create a DataFrame from the preprocessed data\n",
    "X_preprocessed_df = pd.DataFrame(X_preprocessed, columns=preprocessed_columns)\n",
    "\n",
    "# Display the first few rows of the preprocessed data\n",
    "print(X_preprocessed_df.head())"
   ]
  },
  {
   "cell_type": "markdown",
   "metadata": {},
   "source": [
    "# Step 2: Building Models with sklearn Pipelines\n",
    "Next, we create a regression model using RandomForest with sklearn Pipelines."
   ]
  },
  {
   "cell_type": "code",
   "execution_count": 10,
   "metadata": {},
   "outputs": [],
   "source": [
    "from sklearn.model_selection import train_test_split\n",
    "from sklearn.ensemble import RandomForestRegressor\n",
    "from sklearn.pipeline import Pipeline\n",
    "\n",
    "# Features and target\n",
    "X = df.drop(columns=['CompetitionDistance', 'CompetitionOpenSinceMonth'])  # Dropping target and date column\n",
    "y = df['CompetitionDistance']\n",
    "\n"
   ]
  },
  {
   "cell_type": "code",
   "execution_count": 11,
   "metadata": {},
   "outputs": [],
   "source": [
    "# Train-test split\n",
    "X_train, X_test, y_train, y_test = train_test_split(X, y, test_size=0.2, random_state=42)"
   ]
  },
  {
   "cell_type": "code",
   "execution_count": 12,
   "metadata": {},
   "outputs": [],
   "source": [
    "# Defining the model pipeline\n",
    "pipeline = Pipeline([\n",
    "    ('scaler', StandardScaler()),  # Scaling\n",
    "    ('rf', RandomForestRegressor(n_estimators=50, random_state=42))  # RandomForest\n",
    "])\n",
    "\n",
    "\n"
   ]
  },
  {
   "cell_type": "code",
   "execution_count": 13,
   "metadata": {},
   "outputs": [],
   "source": [
    "# Fit model\n",
    "pipeline.fit(X_train, y_train)\n",
    "\n",
    "# Predict\n",
    "y_pred = pipeline.predict(X_test)"
   ]
  },
  {
   "cell_type": "markdown",
   "metadata": {},
   "source": [
    "# Step 3: Choosing a Loss Function\n",
    "For this regression task, Mean Absolute Error (MAE) is a good candidate for the loss function because it's more interpretable and not as sensitive to outliers as Mean Squared Error (MSE)."
   ]
  },
  {
   "cell_type": "code",
   "execution_count": 14,
   "metadata": {},
   "outputs": [
    {
     "name": "stdout",
     "output_type": "stream",
     "text": [
      "Mean Absolute Error: 4969.5130044843045\n"
     ]
    }
   ],
   "source": [
    "from sklearn.metrics import mean_absolute_error\n",
    "\n",
    "# Evaluating the model\n",
    "mae = mean_absolute_error(y_test, y_pred)\n",
    "print(f'Mean Absolute Error: {mae}')\n"
   ]
  },
  {
   "cell_type": "markdown",
   "metadata": {},
   "source": [
    "# Step 4: Post-Prediction Analysis (Feature Importance and Confidence Interval)"
   ]
  },
  {
   "cell_type": "code",
   "execution_count": 15,
   "metadata": {},
   "outputs": [],
   "source": [
    "# Feature importance from RandomForest\n",
    "import matplotlib.pyplot as plt\n",
    "import seaborn as sns\n",
    "\n",
    "importance = pipeline.named_steps['rf'].feature_importances_\n",
    "features = X.columns"
   ]
  },
  {
   "cell_type": "code",
   "execution_count": 17,
   "metadata": {},
   "outputs": [
    {
     "data": {
      "image/png": "[encoded data removed]",
      "text/plain": [
       "<Figure size 640x480 with 1 Axes>"
      ]
     },
     "metadata": {},
     "output_type": "display_data"
    },
    {
     "name": "stdout",
     "output_type": "stream",
     "text": [
      "Confidence Interval: (array([ -5526.6187182 ,  -8493.28648568,  -9538.82890865,   1134.5042086 ,\n",
      "        -8221.22890865, -10912.42890865,  -4826.38684093,  -5794.99680773,\n",
      "          204.99037386,  -2790.33534551,  -7262.48648568,  -6321.48648568,\n",
      "        -4873.71038539, -10097.82890865,  -7219.79680773,  -3881.11038539,\n",
      "       -11004.03946641,  -7389.6957914 , -10179.83946641,  -8194.48648568,\n",
      "        16082.86465449,  -6702.17156661,  -6830.79680773,   4426.97109135,\n",
      "        -9226.59680773,  -4598.62095667,  -9306.02890865,  -8629.68648568,\n",
      "        -4536.31862025,  -6456.79680773, -10791.62890865, -10640.42890865,\n",
      "        -7719.62890865,  -4166.39573731,  -6177.48648568,  -8862.19680773,\n",
      "        -7170.99680773, -11304.8957914 ,  -7227.77156661,    357.60319227,\n",
      "         6305.66465449,  -5986.22095667,  -9177.03946641,  -4640.57156661,\n",
      "        -8282.83946641,  -1638.02095667,  -8471.08648568,   2399.60319227,\n",
      "         4316.17904333,  -3625.22890865,  -3562.02890865,  -8524.62890865,\n",
      "        -4917.0187182 ,  -8746.79680773,  -4292.59573731,  -7260.62436352,\n",
      "        -7195.19778882,   1547.71351432,  -9434.21227853,  -3955.73534551,\n",
      "        -7330.59680773,  -9548.42890865,  -1254.82095667,  -3361.31862025,\n",
      "          219.28961461,  -5017.71862025, -10247.37156661,  -4750.11649637,\n",
      "       -11186.73534551,  -1660.59573731,   2270.80426269,  -2783.79573731,\n",
      "        -3188.19573731,  -6000.59680773,  -8272.44162305,  -9906.67579402,\n",
      "        -7840.33534551, -11719.42890865,  -8791.19778882,  -1302.59573731,\n",
      "        -9784.36865144,   -713.19573731,  -5914.40962614,   7487.3042086 ,\n",
      "        -6413.59680773,  -6779.62436352,   4088.68137975,  -8590.4187182 ,\n",
      "        -5081.42095667,  -6305.43946641,  -8347.6187182 ,     85.79037386,\n",
      "         -779.39573731,  -3732.45766429,   1799.20426269,  -4923.53534551,\n",
      "        -8805.68648568,  -7147.87579402,  -5863.28579432,  -5639.56865144,\n",
      "        -6703.79680773,  -6355.19680773,  -5350.23946641,  -1357.79573731,\n",
      "        -4327.88579432,  -9692.62890865,  -8197.63946641,  -7537.68648568,\n",
      "        -2643.79680773,  -4237.2957914 ,   -806.22890865,  -1652.22890865,\n",
      "        -2741.71038539,  -4756.57156661,  -3007.59573731,  -8988.59680773,\n",
      "        -5659.53534551,  -7286.23946641,  -4114.68648568,  -9259.2187182 ,\n",
      "        -8200.42436352,  -8721.48648568,    252.63134856,  -6609.28648568,\n",
      "          903.79037386,  -7095.96865144,  -6271.48648568,  10220.3042086 ,\n",
      "         2926.26465449,  -7631.73534551,  -7089.10733804,  -4387.39680773,\n",
      "        -5845.53534551,  -3155.42890865,   3891.80426269,   -623.22890865,\n",
      "        -6278.88579432,   2698.60319227,  -2585.59573731,  -8740.8187182 ,\n",
      "        -3528.22095667,  -6779.79680773,  -2605.71038539,  -3460.05766429,\n",
      "        -7440.4187182 ,  -5895.22436352,  -6675.82095667,  -5098.91649637,\n",
      "        -6421.6957914 ,  -4956.79573731,  -4475.33534551,  -8389.31862025,\n",
      "        -8663.79778882,  -6940.62890865,   6179.46465449,  -7073.42890865,\n",
      "       -11571.36865144,     90.00426269,   3204.3812818 ,   2290.20426269,\n",
      "       -10656.07579402,    372.68137975,  -5612.67579402,  -8994.39680773,\n",
      "          336.08137975,  -7221.59680773,  -4738.91038539,  -8272.44162305,\n",
      "        -4188.42890865, -10367.50733804,  -8185.88648568,  -4953.39680773,\n",
      "        -4914.42890865,  -1740.39680773,  -8151.39680773,  -1544.68648568,\n",
      "        -3026.57156661,  -8057.82436352,  -6342.42890865,   -189.99573731,\n",
      "         -660.19680773, -10117.83946641,  -4567.79573731,  -2957.99573731,\n",
      "       -10530.47579402,  -2088.23946641,  -7394.42436352,  -6808.4187182 ,\n",
      "        -7738.79680773,  -7438.19680773,   -765.31038539,   -799.99573731,\n",
      "        -6089.68648568,   4465.46465449,  -1344.71038539,  -5769.91649637,\n",
      "        -5057.71862025,   2067.51420568,  -2379.62095667,  -5191.63946641,\n",
      "         2442.79037386,  -2433.71862025,  -4944.91038539,  -2679.47579402,\n",
      "        -9864.37156661,  -8594.42436352,  -4653.11862025, -11868.13534551,\n",
      "        -9228.68648568,  -5594.08579432,  -6108.22890865,  -5896.39680773,\n",
      "        -8594.17156661,  -9102.39680773,  -8546.59680773,  -4508.8957914 ,\n",
      "        -5611.22890865, -11161.62890865, -11511.96865144,  -8162.93534551,\n",
      "        -4447.82890865,  -3201.39680773,  -5438.31038539]), array([16676.2187182 , 12178.08648568, 19696.02890865, 27999.4957914 ,\n",
      "       21013.62890865, 18322.42890865, 12075.18684093, 15378.99680773,\n",
      "       21129.00962614, 30176.73534551, 13408.88648568, 14349.88648568,\n",
      "        9702.51038539, 19137.02890865, 13954.19680773, 10695.11038539,\n",
      "       14262.03946641, 19475.2957914 , 15086.23946641, 12476.88648568,\n",
      "       49049.93534551, 17249.77156661, 14343.19680773, 33661.82890865,\n",
      "       11947.39680773, 15163.02095667, 19928.82890865, 12041.68648568,\n",
      "       14184.71862025, 14717.19680773, 18443.22890865, 18594.42890865,\n",
      "       21515.22890865, 11170.39573731, 14493.88648568, 12311.79680773,\n",
      "       14002.99680773, 15560.0957914 , 16724.17156661, 21531.59680773,\n",
      "       39272.73534551, 13775.42095667, 16089.03946641, 19311.37156661,\n",
      "       16983.23946641, 18123.62095667, 12200.28648568, 23573.59680773,\n",
      "       24077.82095667, 25609.62890865, 25672.82890865, 20710.22890865,\n",
      "       17285.8187182 , 12427.19680773, 11044.19573731, 13481.42436352,\n",
      "       14850.79778882, 22219.08648568, 14769.01227853, 29011.33534551,\n",
      "       13843.39680773, 19686.42890865, 18506.82095667, 15359.71862025,\n",
      "       14795.51038539, 13703.31862025, 13704.57156661, 21944.51649637,\n",
      "       21780.33534551, 13676.19573731, 17607.59573731, 12552.99573731,\n",
      "       12148.59573731, 15173.39680773, 12655.24162305, 17161.07579402,\n",
      "       25126.73534551, 17515.42890865, 13254.79778882, 14034.19573731,\n",
      "       21115.16865144, 14623.59573731, 15009.60962614, 34352.2957914 ,\n",
      "       14760.39680773, 13962.42436352, 22809.71862025, 13612.4187182 ,\n",
      "       14680.22095667, 18960.63946641, 13855.2187182 , 21009.80962614,\n",
      "       14557.39573731, 19307.65766429, 17135.99573731, 28043.53534551,\n",
      "       11865.68648568, 19919.87579402, 11008.08579432, 25259.96865144,\n",
      "       14470.19680773, 14818.79680773, 19915.83946641, 13978.99573731,\n",
      "       12543.48579432, 19542.22890865, 17068.43946641, 13133.68648568,\n",
      "       18530.19680773, 22627.6957914 , 28428.62890865, 27582.62890865,\n",
      "       11834.51038539, 19195.37156661, 12329.19573731, 12185.39680773,\n",
      "       27307.53534551, 17979.83946641, 16556.68648568, 12943.6187182 ,\n",
      "       12541.62436352, 11949.88648568, 31152.16865144, 14062.08648568,\n",
      "       21827.80962614, 23803.56865144, 14399.88648568, 37085.2957914 ,\n",
      "       35893.33534551, 25335.33534551, 19681.50733804, 16786.59680773,\n",
      "       27121.53534551, 26079.42890865, 19228.59573731, 28611.62890865,\n",
      "       10592.48579432, 23872.59680773, 12751.19573731, 13462.0187182 ,\n",
      "       16233.42095667, 14394.19680773, 11970.51038539, 19580.05766429,\n",
      "       14762.4187182 , 14846.82436352, 13085.82095667, 21595.71649637,\n",
      "       20443.2957914 , 10379.99573731, 28491.73534551, 10331.71862025,\n",
      "       13382.19778882, 22294.22890865, 39146.53534551, 22161.42890865,\n",
      "       19328.16865144, 15426.79573731, 25407.2187182 , 17626.99573731,\n",
      "       16411.67579402, 19093.71862025, 21455.07579402, 12179.59680773,\n",
      "       19057.11862025, 13952.39680773,  9837.31038539, 12655.24162305,\n",
      "       25046.42890865, 16403.10733804, 12485.48648568, 16220.59680773,\n",
      "       24320.42890865, 19433.59680773, 13022.59680773, 19126.68648568,\n",
      "       20925.37156661, 12684.22436352, 22892.42890865, 15146.79573731,\n",
      "       20513.79680773, 15148.23946641, 10768.99573731, 12378.79573731,\n",
      "       16537.27579402, 23177.83946641, 13347.62436352, 15394.4187182 ,\n",
      "       13435.19680773, 13735.79680773, 13810.91038539, 14536.79573731,\n",
      "       14581.68648568, 37432.53534551, 13231.51038539, 20924.71649637,\n",
      "       13663.31862025, 18938.88579432, 17382.02095667, 20074.43946641,\n",
      "       23366.80962614, 16287.31862025,  9631.31038539, 24388.27579402,\n",
      "       14087.57156661, 12147.62436352, 14067.91862025, 21098.93534551,\n",
      "       11442.68648568, 11277.28579432, 23126.62890865, 15277.59680773,\n",
      "       15357.77156661, 12071.59680773, 12627.39680773, 22356.0957914 ,\n",
      "       23623.62890865, 18073.22890865, 19387.56865144, 24804.13534551,\n",
      "       24787.02890865, 17972.59680773,  9137.91038539]))\n"
     ]
    },
    {
     "name": "stderr",
     "output_type": "stream",
     "text": [
      "c:\\Users\\Hello\\Desktop\\Html Tutorial\\Document\\KAIM Courses\\Week-04_Pharamatical_Sales\\venv\\Lib\\site-packages\\sklearn\\base.py:486: UserWarning: X has feature names, but DecisionTreeRegressor was fitted without feature names\n",
      "  warnings.warn(\n",
      "c:\\Users\\Hello\\Desktop\\Html Tutorial\\Document\\KAIM Courses\\Week-04_Pharamatical_Sales\\venv\\Lib\\site-packages\\sklearn\\base.py:486: UserWarning: X has feature names, but DecisionTreeRegressor was fitted without feature names\n",
      "  warnings.warn(\n",
      "c:\\Users\\Hello\\Desktop\\Html Tutorial\\Document\\KAIM Courses\\Week-04_Pharamatical_Sales\\venv\\Lib\\site-packages\\sklearn\\base.py:486: UserWarning: X has feature names, but DecisionTreeRegressor was fitted without feature names\n",
      "  warnings.warn(\n",
      "c:\\Users\\Hello\\Desktop\\Html Tutorial\\Document\\KAIM Courses\\Week-04_Pharamatical_Sales\\venv\\Lib\\site-packages\\sklearn\\base.py:486: UserWarning: X has feature names, but DecisionTreeRegressor was fitted without feature names\n",
      "  warnings.warn(\n",
      "c:\\Users\\Hello\\Desktop\\Html Tutorial\\Document\\KAIM Courses\\Week-04_Pharamatical_Sales\\venv\\Lib\\site-packages\\sklearn\\base.py:486: UserWarning: X has feature names, but DecisionTreeRegressor was fitted without feature names\n",
      "  warnings.warn(\n",
      "c:\\Users\\Hello\\Desktop\\Html Tutorial\\Document\\KAIM Courses\\Week-04_Pharamatical_Sales\\venv\\Lib\\site-packages\\sklearn\\base.py:486: UserWarning: X has feature names, but DecisionTreeRegressor was fitted without feature names\n",
      "  warnings.warn(\n",
      "c:\\Users\\Hello\\Desktop\\Html Tutorial\\Document\\KAIM Courses\\Week-04_Pharamatical_Sales\\venv\\Lib\\site-packages\\sklearn\\base.py:486: UserWarning: X has feature names, but DecisionTreeRegressor was fitted without feature names\n",
      "  warnings.warn(\n",
      "c:\\Users\\Hello\\Desktop\\Html Tutorial\\Document\\KAIM Courses\\Week-04_Pharamatical_Sales\\venv\\Lib\\site-packages\\sklearn\\base.py:486: UserWarning: X has feature names, but DecisionTreeRegressor was fitted without feature names\n",
      "  warnings.warn(\n",
      "c:\\Users\\Hello\\Desktop\\Html Tutorial\\Document\\KAIM Courses\\Week-04_Pharamatical_Sales\\venv\\Lib\\site-packages\\sklearn\\base.py:486: UserWarning: X has feature names, but DecisionTreeRegressor was fitted without feature names\n",
      "  warnings.warn(\n",
      "c:\\Users\\Hello\\Desktop\\Html Tutorial\\Document\\KAIM Courses\\Week-04_Pharamatical_Sales\\venv\\Lib\\site-packages\\sklearn\\base.py:486: UserWarning: X has feature names, but DecisionTreeRegressor was fitted without feature names\n",
      "  warnings.warn(\n",
      "c:\\Users\\Hello\\Desktop\\Html Tutorial\\Document\\KAIM Courses\\Week-04_Pharamatical_Sales\\venv\\Lib\\site-packages\\sklearn\\base.py:486: UserWarning: X has feature names, but DecisionTreeRegressor was fitted without feature names\n",
      "  warnings.warn(\n",
      "c:\\Users\\Hello\\Desktop\\Html Tutorial\\Document\\KAIM Courses\\Week-04_Pharamatical_Sales\\venv\\Lib\\site-packages\\sklearn\\base.py:486: UserWarning: X has feature names, but DecisionTreeRegressor was fitted without feature names\n",
      "  warnings.warn(\n",
      "c:\\Users\\Hello\\Desktop\\Html Tutorial\\Document\\KAIM Courses\\Week-04_Pharamatical_Sales\\venv\\Lib\\site-packages\\sklearn\\base.py:486: UserWarning: X has feature names, but DecisionTreeRegressor was fitted without feature names\n",
      "  warnings.warn(\n",
      "c:\\Users\\Hello\\Desktop\\Html Tutorial\\Document\\KAIM Courses\\Week-04_Pharamatical_Sales\\venv\\Lib\\site-packages\\sklearn\\base.py:486: UserWarning: X has feature names, but DecisionTreeRegressor was fitted without feature names\n",
      "  warnings.warn(\n",
      "c:\\Users\\Hello\\Desktop\\Html Tutorial\\Document\\KAIM Courses\\Week-04_Pharamatical_Sales\\venv\\Lib\\site-packages\\sklearn\\base.py:486: UserWarning: X has feature names, but DecisionTreeRegressor was fitted without feature names\n",
      "  warnings.warn(\n",
      "c:\\Users\\Hello\\Desktop\\Html Tutorial\\Document\\KAIM Courses\\Week-04_Pharamatical_Sales\\venv\\Lib\\site-packages\\sklearn\\base.py:486: UserWarning: X has feature names, but DecisionTreeRegressor was fitted without feature names\n",
      "  warnings.warn(\n",
      "c:\\Users\\Hello\\Desktop\\Html Tutorial\\Document\\KAIM Courses\\Week-04_Pharamatical_Sales\\venv\\Lib\\site-packages\\sklearn\\base.py:486: UserWarning: X has feature names, but DecisionTreeRegressor was fitted without feature names\n",
      "  warnings.warn(\n",
      "c:\\Users\\Hello\\Desktop\\Html Tutorial\\Document\\KAIM Courses\\Week-04_Pharamatical_Sales\\venv\\Lib\\site-packages\\sklearn\\base.py:486: UserWarning: X has feature names, but DecisionTreeRegressor was fitted without feature names\n",
      "  warnings.warn(\n",
      "c:\\Users\\Hello\\Desktop\\Html Tutorial\\Document\\KAIM Courses\\Week-04_Pharamatical_Sales\\venv\\Lib\\site-packages\\sklearn\\base.py:486: UserWarning: X has feature names, but DecisionTreeRegressor was fitted without feature names\n",
      "  warnings.warn(\n",
      "c:\\Users\\Hello\\Desktop\\Html Tutorial\\Document\\KAIM Courses\\Week-04_Pharamatical_Sales\\venv\\Lib\\site-packages\\sklearn\\base.py:486: UserWarning: X has feature names, but DecisionTreeRegressor was fitted without feature names\n",
      "  warnings.warn(\n",
      "c:\\Users\\Hello\\Desktop\\Html Tutorial\\Document\\KAIM Courses\\Week-04_Pharamatical_Sales\\venv\\Lib\\site-packages\\sklearn\\base.py:486: UserWarning: X has feature names, but DecisionTreeRegressor was fitted without feature names\n",
      "  warnings.warn(\n",
      "c:\\Users\\Hello\\Desktop\\Html Tutorial\\Document\\KAIM Courses\\Week-04_Pharamatical_Sales\\venv\\Lib\\site-packages\\sklearn\\base.py:486: UserWarning: X has feature names, but DecisionTreeRegressor was fitted without feature names\n",
      "  warnings.warn(\n",
      "c:\\Users\\Hello\\Desktop\\Html Tutorial\\Document\\KAIM Courses\\Week-04_Pharamatical_Sales\\venv\\Lib\\site-packages\\sklearn\\base.py:486: UserWarning: X has feature names, but DecisionTreeRegressor was fitted without feature names\n",
      "  warnings.warn(\n",
      "c:\\Users\\Hello\\Desktop\\Html Tutorial\\Document\\KAIM Courses\\Week-04_Pharamatical_Sales\\venv\\Lib\\site-packages\\sklearn\\base.py:486: UserWarning: X has feature names, but DecisionTreeRegressor was fitted without feature names\n",
      "  warnings.warn(\n",
      "c:\\Users\\Hello\\Desktop\\Html Tutorial\\Document\\KAIM Courses\\Week-04_Pharamatical_Sales\\venv\\Lib\\site-packages\\sklearn\\base.py:486: UserWarning: X has feature names, but DecisionTreeRegressor was fitted without feature names\n",
      "  warnings.warn(\n",
      "c:\\Users\\Hello\\Desktop\\Html Tutorial\\Document\\KAIM Courses\\Week-04_Pharamatical_Sales\\venv\\Lib\\site-packages\\sklearn\\base.py:486: UserWarning: X has feature names, but DecisionTreeRegressor was fitted without feature names\n",
      "  warnings.warn(\n",
      "c:\\Users\\Hello\\Desktop\\Html Tutorial\\Document\\KAIM Courses\\Week-04_Pharamatical_Sales\\venv\\Lib\\site-packages\\sklearn\\base.py:486: UserWarning: X has feature names, but DecisionTreeRegressor was fitted without feature names\n",
      "  warnings.warn(\n",
      "c:\\Users\\Hello\\Desktop\\Html Tutorial\\Document\\KAIM Courses\\Week-04_Pharamatical_Sales\\venv\\Lib\\site-packages\\sklearn\\base.py:486: UserWarning: X has feature names, but DecisionTreeRegressor was fitted without feature names\n",
      "  warnings.warn(\n",
      "c:\\Users\\Hello\\Desktop\\Html Tutorial\\Document\\KAIM Courses\\Week-04_Pharamatical_Sales\\venv\\Lib\\site-packages\\sklearn\\base.py:486: UserWarning: X has feature names, but DecisionTreeRegressor was fitted without feature names\n",
      "  warnings.warn(\n",
      "c:\\Users\\Hello\\Desktop\\Html Tutorial\\Document\\KAIM Courses\\Week-04_Pharamatical_Sales\\venv\\Lib\\site-packages\\sklearn\\base.py:486: UserWarning: X has feature names, but DecisionTreeRegressor was fitted without feature names\n",
      "  warnings.warn(\n",
      "c:\\Users\\Hello\\Desktop\\Html Tutorial\\Document\\KAIM Courses\\Week-04_Pharamatical_Sales\\venv\\Lib\\site-packages\\sklearn\\base.py:486: UserWarning: X has feature names, but DecisionTreeRegressor was fitted without feature names\n",
      "  warnings.warn(\n",
      "c:\\Users\\Hello\\Desktop\\Html Tutorial\\Document\\KAIM Courses\\Week-04_Pharamatical_Sales\\venv\\Lib\\site-packages\\sklearn\\base.py:486: UserWarning: X has feature names, but DecisionTreeRegressor was fitted without feature names\n",
      "  warnings.warn(\n",
      "c:\\Users\\Hello\\Desktop\\Html Tutorial\\Document\\KAIM Courses\\Week-04_Pharamatical_Sales\\venv\\Lib\\site-packages\\sklearn\\base.py:486: UserWarning: X has feature names, but DecisionTreeRegressor was fitted without feature names\n",
      "  warnings.warn(\n",
      "c:\\Users\\Hello\\Desktop\\Html Tutorial\\Document\\KAIM Courses\\Week-04_Pharamatical_Sales\\venv\\Lib\\site-packages\\sklearn\\base.py:486: UserWarning: X has feature names, but DecisionTreeRegressor was fitted without feature names\n",
      "  warnings.warn(\n",
      "c:\\Users\\Hello\\Desktop\\Html Tutorial\\Document\\KAIM Courses\\Week-04_Pharamatical_Sales\\venv\\Lib\\site-packages\\sklearn\\base.py:486: UserWarning: X has feature names, but DecisionTreeRegressor was fitted without feature names\n",
      "  warnings.warn(\n",
      "c:\\Users\\Hello\\Desktop\\Html Tutorial\\Document\\KAIM Courses\\Week-04_Pharamatical_Sales\\venv\\Lib\\site-packages\\sklearn\\base.py:486: UserWarning: X has feature names, but DecisionTreeRegressor was fitted without feature names\n",
      "  warnings.warn(\n",
      "c:\\Users\\Hello\\Desktop\\Html Tutorial\\Document\\KAIM Courses\\Week-04_Pharamatical_Sales\\venv\\Lib\\site-packages\\sklearn\\base.py:486: UserWarning: X has feature names, but DecisionTreeRegressor was fitted without feature names\n",
      "  warnings.warn(\n",
      "c:\\Users\\Hello\\Desktop\\Html Tutorial\\Document\\KAIM Courses\\Week-04_Pharamatical_Sales\\venv\\Lib\\site-packages\\sklearn\\base.py:486: UserWarning: X has feature names, but DecisionTreeRegressor was fitted without feature names\n",
      "  warnings.warn(\n",
      "c:\\Users\\Hello\\Desktop\\Html Tutorial\\Document\\KAIM Courses\\Week-04_Pharamatical_Sales\\venv\\Lib\\site-packages\\sklearn\\base.py:486: UserWarning: X has feature names, but DecisionTreeRegressor was fitted without feature names\n",
      "  warnings.warn(\n",
      "c:\\Users\\Hello\\Desktop\\Html Tutorial\\Document\\KAIM Courses\\Week-04_Pharamatical_Sales\\venv\\Lib\\site-packages\\sklearn\\base.py:486: UserWarning: X has feature names, but DecisionTreeRegressor was fitted without feature names\n",
      "  warnings.warn(\n",
      "c:\\Users\\Hello\\Desktop\\Html Tutorial\\Document\\KAIM Courses\\Week-04_Pharamatical_Sales\\venv\\Lib\\site-packages\\sklearn\\base.py:486: UserWarning: X has feature names, but DecisionTreeRegressor was fitted without feature names\n",
      "  warnings.warn(\n",
      "c:\\Users\\Hello\\Desktop\\Html Tutorial\\Document\\KAIM Courses\\Week-04_Pharamatical_Sales\\venv\\Lib\\site-packages\\sklearn\\base.py:486: UserWarning: X has feature names, but DecisionTreeRegressor was fitted without feature names\n",
      "  warnings.warn(\n",
      "c:\\Users\\Hello\\Desktop\\Html Tutorial\\Document\\KAIM Courses\\Week-04_Pharamatical_Sales\\venv\\Lib\\site-packages\\sklearn\\base.py:486: UserWarning: X has feature names, but DecisionTreeRegressor was fitted without feature names\n",
      "  warnings.warn(\n",
      "c:\\Users\\Hello\\Desktop\\Html Tutorial\\Document\\KAIM Courses\\Week-04_Pharamatical_Sales\\venv\\Lib\\site-packages\\sklearn\\base.py:486: UserWarning: X has feature names, but DecisionTreeRegressor was fitted without feature names\n",
      "  warnings.warn(\n",
      "c:\\Users\\Hello\\Desktop\\Html Tutorial\\Document\\KAIM Courses\\Week-04_Pharamatical_Sales\\venv\\Lib\\site-packages\\sklearn\\base.py:486: UserWarning: X has feature names, but DecisionTreeRegressor was fitted without feature names\n",
      "  warnings.warn(\n",
      "c:\\Users\\Hello\\Desktop\\Html Tutorial\\Document\\KAIM Courses\\Week-04_Pharamatical_Sales\\venv\\Lib\\site-packages\\sklearn\\base.py:486: UserWarning: X has feature names, but DecisionTreeRegressor was fitted without feature names\n",
      "  warnings.warn(\n",
      "c:\\Users\\Hello\\Desktop\\Html Tutorial\\Document\\KAIM Courses\\Week-04_Pharamatical_Sales\\venv\\Lib\\site-packages\\sklearn\\base.py:486: UserWarning: X has feature names, but DecisionTreeRegressor was fitted without feature names\n",
      "  warnings.warn(\n",
      "c:\\Users\\Hello\\Desktop\\Html Tutorial\\Document\\KAIM Courses\\Week-04_Pharamatical_Sales\\venv\\Lib\\site-packages\\sklearn\\base.py:486: UserWarning: X has feature names, but DecisionTreeRegressor was fitted without feature names\n",
      "  warnings.warn(\n",
      "c:\\Users\\Hello\\Desktop\\Html Tutorial\\Document\\KAIM Courses\\Week-04_Pharamatical_Sales\\venv\\Lib\\site-packages\\sklearn\\base.py:486: UserWarning: X has feature names, but DecisionTreeRegressor was fitted without feature names\n",
      "  warnings.warn(\n",
      "c:\\Users\\Hello\\Desktop\\Html Tutorial\\Document\\KAIM Courses\\Week-04_Pharamatical_Sales\\venv\\Lib\\site-packages\\sklearn\\base.py:486: UserWarning: X has feature names, but DecisionTreeRegressor was fitted without feature names\n",
      "  warnings.warn(\n"
     ]
    }
   ],
   "source": [
    "# Plotting feature importance\n",
    "sns.barplot(x=importance, y=features)\n",
    "plt.title(\"Feature Importance\")\n",
    "plt.show()\n",
    "\n",
    "# Confidence Interval Estimation (example using standard deviation)\n",
    "y_std = np.std([tree.predict(X_test) for tree in pipeline.named_steps['rf'].estimators_], axis=0)\n",
    "confidence_interval = (y_pred - 1.96 * y_std, y_pred + 1.96 * y_std)\n",
    "print(f'Confidence Interval: {confidence_interval}')\n"
   ]
  },
  {
   "cell_type": "markdown",
   "metadata": {},
   "source": [
    "# Step 6: Deep Learning Model with LSTM\n",
    "For this step, we will use TensorFlow/Keras to build an LSTM model to predict future sales."
   ]
  },
  {
   "cell_type": "code",
   "execution_count": null,
   "metadata": {},
   "outputs": [],
   "source": [
    "import tensorflow as tf\n",
    "from tensorflow.keras.models import Sequential\n",
    "from tensorflow.keras.layers import LSTM, Dense\n",
    "from sklearn.preprocessing import MinMaxScaler"
   ]
  },
  {
   "cell_type": "code",
   "execution_count": null,
   "metadata": {},
   "outputs": [],
   "source": [
    "# Preprocessing the data for LSTM\n",
    "scaler = MinMaxScaler(feature_range=(-1, 1))\n",
    "scaled_data = scaler.fit_transform(df[['Sales']])"
   ]
  },
  {
   "cell_type": "code",
   "execution_count": null,
   "metadata": {},
   "outputs": [],
   "source": [
    "# Creating time-series data (window-based data)\n",
    "def create_dataset(data, window_size):\n",
    "    X, y = [], []\n",
    "    for i in range(len(data) - window_size):\n",
    "        X.append(data[i:i+window_size])\n",
    "        y.append(data[i+window_size])\n",
    "    return np.array(X), np.array(y)\n",
    "\n",
    "window_size = 30  # Using a 30-day window\n",
    "X_lstm, y_lstm = create_dataset(scaled_data, window_size)"
   ]
  },
  {
   "cell_type": "code",
   "execution_count": null,
   "metadata": {},
   "outputs": [],
   "source": [
    "# Reshaping for LSTM (samples, timesteps, features)\n",
    "X_lstm = X_lstm.reshape(X_lstm.shape[0], X_lstm.shape[1], 1)"
   ]
  },
  {
   "cell_type": "code",
   "execution_count": null,
   "metadata": {},
   "outputs": [],
   "source": [
    "# Building LSTM model\n",
    "model = Sequential()\n",
    "model.add(LSTM(50, activation='relu', input_shape=(window_size, 1)))\n",
    "model.add(Dense(1))\n",
    "model.compile(optimizer='adam', loss='mean_squared_error')"
   ]
  },
  {
   "cell_type": "code",
   "execution_count": null,
   "metadata": {},
   "outputs": [],
   "source": [
    "# Fit the model\n",
    "model.fit(X_lstm, y_lstm, epochs=10, batch_size=32)"
   ]
  },
  {
   "cell_type": "code",
   "execution_count": null,
   "metadata": {},
   "outputs": [],
   "source": [
    "# Predicting\n",
    "y_lstm_pred = model.predict(X_lstm)\n",
    "\n",
    "# Inverse scaling\n",
    "y_lstm_pred_rescaled = scaler.inverse_transform(y_lstm_pred)"
   ]
  }
 ],
 "metadata": {
  "kernelspec": {
   "display_name": "venv",
   "language": "python",
   "name": "python3"
  },
  "language_info": {
   "codemirror_mode": {
    "name": "ipython",
    "version": 3
   },
   "file_extension": ".py",
   "mimetype": "text/x-python",
   "name": "python",
   "nbconvert_exporter": "python",
   "pygments_lexer": "ipython3",
   "version": "3.12.6"
  }
 },
 "nbformat": 4,
 "nbformat_minor": 2
}
